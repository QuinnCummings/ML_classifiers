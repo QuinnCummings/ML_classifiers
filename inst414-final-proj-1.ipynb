{
 "cells": [
  {
   "cell_type": "markdown",
   "metadata": {
    "papermill": {
     "duration": 0.014467,
     "end_time": "2021-05-10T00:40:03.005682",
     "exception": false,
     "start_time": "2021-05-10T00:40:02.991215",
     "status": "completed"
    },
    "tags": []
   },
   "source": [
    "# INST414 Final Project\n",
    "\n",
    "Objective - Develop machine learning classifiers to accuratley predict the churn of telecom users (to identify people who will and will not renew their contract)\n",
    "\n",
    "Dataset - Any business wants to maximize the number of customers. To achieve this goal, it is important not only to try to attract new ones, but also to retain existing ones. Retaining a client will cost the company less than attracting a new one. In addition, a new client may be weakly interested in business services and it will be difficult to work with him, while old clients already have the necessary data on interaction with the service. Accordingly, predicting the churn, we can react in time and try to keep the client who wants to leave.The dataset is from a telecommunications company. The data contains information about almost six thousand users, their demographic characteristics, the services they use, the duration of using the operator's services, the method of payment, and the amount of payment. \n",
    "\n",
    "The data contains 5987 rows with 22 attributes. \n",
    "\n",
    "Features: customerID, gender, Senior Citizen, Partner, Dependents, tenure, Phone service, Multiple lines, Internet service, Online security, online backup, device protection, tech support, streaming tv, contract, paperless billing, payment method, monthly charges, total charges, churn\n",
    "\n",
    "Contributors - Quinn Cummings, Joe McCarthy, Angad Dhillon, Daniel Nkengafac, Mia Garcia\n"
   ]
  },
  {
   "cell_type": "code",
   "execution_count": 11,
   "metadata": {
    "execution": {
     "iopub.execute_input": "2021-05-10T00:40:03.059093Z",
     "iopub.status.busy": "2021-05-10T00:40:03.048504Z",
     "iopub.status.idle": "2021-05-10T00:40:12.858384Z",
     "shell.execute_reply": "2021-05-10T00:40:12.856861Z"
    },
    "papermill": {
     "duration": 9.838748,
     "end_time": "2021-05-10T00:40:12.858663",
     "exception": false,
     "start_time": "2021-05-10T00:40:03.019915",
     "status": "completed"
    },
    "tags": []
   },
   "outputs": [],
   "source": [
    "#package imports\n",
    "import numpy as np \n",
    "import pandas as pd \n",
    "pd.set_option('display.max_columns', None)\n",
    "from sklearn.model_selection import train_test_split\n",
    "import math\n",
    "import sklearn\n",
    "import matplotlib.pyplot as plt\n",
    "import seaborn as sns\n",
    "\n",
    "#Pytorch\n",
    "import torch\n",
    "import torch.nn as nn\n",
    "import torch.optim as optim\n",
    "import torch.nn.functional as F\n",
    "from torch.utils.data import DataLoader, Dataset\n",
    "import torchvision.transforms as transforms\n",
    "\n",
    "#logistic regression\n",
    "import pandas as pd\n",
    "from sklearn.linear_model import LogisticRegression\n",
    "from sklearn.metrics import classification_report, confusion_matrix\n",
    "from sklearn.metrics import roc_auc_score, roc_curve, accuracy_score\n",
    "from sklearn.metrics import precision_score, recall_score\n",
    "from sklearn import preprocessing\n",
    "import numpy as np\n",
    "import matplotlib.pyplot as plt\n",
    "import seaborn as sns\n",
    "%matplotlib inline\n",
    "from sklearn.dummy import DummyClassifier\n",
    "\n",
    "#Keras\n",
    "import os\n",
    "import tensorflow as tf\n",
    "from sklearn.preprocessing import LabelEncoder, OneHotEncoder\n",
    "from sklearn.preprocessing import StandardScaler\n",
    "from sklearn.metrics import confusion_matrix, roc_auc_score\n",
    "from keras.models import Sequential\n",
    "from keras.layers import Dense\n",
    "\n",
    "#XGBoost\n",
    "import pandas as pd\n",
    "import numpy as np\n",
    "import xgboost as xgb\n",
    "from xgboost import plot_importance\n",
    "#DecisionTree\n",
    "from sklearn.tree import DecisionTreeClassifier\n",
    "from sklearn.model_selection import train_test_split\n",
    "from sklearn.metrics import accuracy_score\n",
    "from sklearn.metrics import mean_squared_error as MSE\n",
    "from sklearn.preprocessing import StandardScaler\n",
    "%matplotlib inline\n",
    "import numpy as np\n",
    "import pandas as pd\n",
    "import seaborn as sns\n",
    "import matplotlib.pyplot as plt"
   ]
  },
  {
   "cell_type": "markdown",
   "metadata": {
    "papermill": {
     "duration": 0.016014,
     "end_time": "2021-05-10T00:40:12.889061",
     "exception": false,
     "start_time": "2021-05-10T00:40:12.873047",
     "status": "completed"
    },
    "tags": []
   },
   "source": [
    "# Exploratory Data Analysis"
   ]
  },
  {
   "cell_type": "code",
   "execution_count": 7,
   "metadata": {
    "execution": {
     "iopub.execute_input": "2021-05-10T00:40:12.925121Z",
     "iopub.status.busy": "2021-05-10T00:40:12.924371Z",
     "iopub.status.idle": "2021-05-10T00:40:13.029278Z",
     "shell.execute_reply": "2021-05-10T00:40:13.028576Z"
    },
    "papermill": {
     "duration": 0.125515,
     "end_time": "2021-05-10T00:40:13.029433",
     "exception": false,
     "start_time": "2021-05-10T00:40:12.903918",
     "status": "completed"
    },
    "tags": []
   },
   "outputs": [
    {
     "data": {
      "text/html": [
       "<div>\n",
       "<style scoped>\n",
       "    .dataframe tbody tr th:only-of-type {\n",
       "        vertical-align: middle;\n",
       "    }\n",
       "\n",
       "    .dataframe tbody tr th {\n",
       "        vertical-align: top;\n",
       "    }\n",
       "\n",
       "    .dataframe thead th {\n",
       "        text-align: right;\n",
       "    }\n",
       "</style>\n",
       "<table border=\"1\" class=\"dataframe\">\n",
       "  <thead>\n",
       "    <tr style=\"text-align: right;\">\n",
       "      <th></th>\n",
       "      <th>Unnamed: 0</th>\n",
       "      <th>customerID</th>\n",
       "      <th>gender</th>\n",
       "      <th>SeniorCitizen</th>\n",
       "      <th>Partner</th>\n",
       "      <th>Dependents</th>\n",
       "      <th>tenure</th>\n",
       "      <th>PhoneService</th>\n",
       "      <th>MultipleLines</th>\n",
       "      <th>InternetService</th>\n",
       "      <th>OnlineSecurity</th>\n",
       "      <th>OnlineBackup</th>\n",
       "      <th>DeviceProtection</th>\n",
       "      <th>TechSupport</th>\n",
       "      <th>StreamingTV</th>\n",
       "      <th>StreamingMovies</th>\n",
       "      <th>Contract</th>\n",
       "      <th>PaperlessBilling</th>\n",
       "      <th>PaymentMethod</th>\n",
       "      <th>MonthlyCharges</th>\n",
       "      <th>TotalCharges</th>\n",
       "      <th>Churn</th>\n",
       "    </tr>\n",
       "  </thead>\n",
       "  <tbody>\n",
       "    <tr>\n",
       "      <th>0</th>\n",
       "      <td>1869</td>\n",
       "      <td>7010-BRBUU</td>\n",
       "      <td>Male</td>\n",
       "      <td>0</td>\n",
       "      <td>Yes</td>\n",
       "      <td>Yes</td>\n",
       "      <td>72</td>\n",
       "      <td>Yes</td>\n",
       "      <td>Yes</td>\n",
       "      <td>No</td>\n",
       "      <td>No internet service</td>\n",
       "      <td>No internet service</td>\n",
       "      <td>No internet service</td>\n",
       "      <td>No internet service</td>\n",
       "      <td>No internet service</td>\n",
       "      <td>No internet service</td>\n",
       "      <td>Two year</td>\n",
       "      <td>No</td>\n",
       "      <td>Credit card (automatic)</td>\n",
       "      <td>24.10</td>\n",
       "      <td>1734.65</td>\n",
       "      <td>No</td>\n",
       "    </tr>\n",
       "    <tr>\n",
       "      <th>1</th>\n",
       "      <td>4528</td>\n",
       "      <td>9688-YGXVR</td>\n",
       "      <td>Female</td>\n",
       "      <td>0</td>\n",
       "      <td>No</td>\n",
       "      <td>No</td>\n",
       "      <td>44</td>\n",
       "      <td>Yes</td>\n",
       "      <td>No</td>\n",
       "      <td>Fiber optic</td>\n",
       "      <td>No</td>\n",
       "      <td>Yes</td>\n",
       "      <td>Yes</td>\n",
       "      <td>No</td>\n",
       "      <td>Yes</td>\n",
       "      <td>No</td>\n",
       "      <td>Month-to-month</td>\n",
       "      <td>Yes</td>\n",
       "      <td>Credit card (automatic)</td>\n",
       "      <td>88.15</td>\n",
       "      <td>3973.2</td>\n",
       "      <td>No</td>\n",
       "    </tr>\n",
       "    <tr>\n",
       "      <th>2</th>\n",
       "      <td>6344</td>\n",
       "      <td>9286-DOJGF</td>\n",
       "      <td>Female</td>\n",
       "      <td>1</td>\n",
       "      <td>Yes</td>\n",
       "      <td>No</td>\n",
       "      <td>38</td>\n",
       "      <td>Yes</td>\n",
       "      <td>Yes</td>\n",
       "      <td>Fiber optic</td>\n",
       "      <td>No</td>\n",
       "      <td>No</td>\n",
       "      <td>No</td>\n",
       "      <td>No</td>\n",
       "      <td>No</td>\n",
       "      <td>No</td>\n",
       "      <td>Month-to-month</td>\n",
       "      <td>Yes</td>\n",
       "      <td>Bank transfer (automatic)</td>\n",
       "      <td>74.95</td>\n",
       "      <td>2869.85</td>\n",
       "      <td>Yes</td>\n",
       "    </tr>\n",
       "  </tbody>\n",
       "</table>\n",
       "</div>"
      ],
      "text/plain": [
       "   Unnamed: 0  customerID  gender  SeniorCitizen Partner Dependents  tenure  \\\n",
       "0        1869  7010-BRBUU    Male              0     Yes        Yes      72   \n",
       "1        4528  9688-YGXVR  Female              0      No         No      44   \n",
       "2        6344  9286-DOJGF  Female              1     Yes         No      38   \n",
       "\n",
       "  PhoneService MultipleLines InternetService       OnlineSecurity  \\\n",
       "0          Yes           Yes              No  No internet service   \n",
       "1          Yes            No     Fiber optic                   No   \n",
       "2          Yes           Yes     Fiber optic                   No   \n",
       "\n",
       "          OnlineBackup     DeviceProtection          TechSupport  \\\n",
       "0  No internet service  No internet service  No internet service   \n",
       "1                  Yes                  Yes                   No   \n",
       "2                   No                   No                   No   \n",
       "\n",
       "           StreamingTV      StreamingMovies        Contract PaperlessBilling  \\\n",
       "0  No internet service  No internet service        Two year               No   \n",
       "1                  Yes                   No  Month-to-month              Yes   \n",
       "2                   No                   No  Month-to-month              Yes   \n",
       "\n",
       "               PaymentMethod  MonthlyCharges TotalCharges Churn  \n",
       "0    Credit card (automatic)           24.10      1734.65    No  \n",
       "1    Credit card (automatic)           88.15       3973.2    No  \n",
       "2  Bank transfer (automatic)           74.95      2869.85   Yes  "
      ]
     },
     "execution_count": 7,
     "metadata": {},
     "output_type": "execute_result"
    }
   ],
   "source": [
    "#EDA (data vizualizations)\n",
    "data_raw = pd.read_csv(\"telecom_users.csv\")\n",
    "data_raw.head(3)"
   ]
  },
  {
   "cell_type": "code",
   "execution_count": 8,
   "metadata": {},
   "outputs": [
    {
     "data": {
      "text/plain": [
       "Unnamed: 0            int64\n",
       "customerID           object\n",
       "gender               object\n",
       "SeniorCitizen         int64\n",
       "Partner              object\n",
       "Dependents           object\n",
       "tenure                int64\n",
       "PhoneService         object\n",
       "MultipleLines        object\n",
       "InternetService      object\n",
       "OnlineSecurity       object\n",
       "OnlineBackup         object\n",
       "DeviceProtection     object\n",
       "TechSupport          object\n",
       "StreamingTV          object\n",
       "StreamingMovies      object\n",
       "Contract             object\n",
       "PaperlessBilling     object\n",
       "PaymentMethod        object\n",
       "MonthlyCharges      float64\n",
       "TotalCharges         object\n",
       "Churn                object\n",
       "dtype: object"
      ]
     },
     "execution_count": 8,
     "metadata": {},
     "output_type": "execute_result"
    }
   ],
   "source": [
    "data_raw.nunique() #check unique values\n",
    "data_raw.dtypes #check data types"
   ]
  },
  {
   "cell_type": "code",
   "execution_count": 9,
   "metadata": {
    "scrolled": false
   },
   "outputs": [
    {
     "data": {
      "image/png": "[encoded data removed]",
      "text/plain": [
       "<Figure size 576x432 with 1 Axes>"
      ]
     },
     "metadata": {},
     "output_type": "display_data"
    },
    {
     "data": {
      "image/png": "[encoded data removed]",
      "text/plain": [
       "<Figure size 720x504 with 1 Axes>"
      ]
     },
     "metadata": {
      "needs_background": "light"
     },
     "output_type": "display_data"
    },
    {
     "data": {
      "image/png": "[encoded data removed]",
      "text/plain": [
       "<Figure size 792x576 with 1 Axes>"
      ]
     },
     "metadata": {
      "needs_background": "light"
     },
     "output_type": "display_data"
    },
    {
     "data": {
      "image/png": "[encoded data removed]",
      "text/plain": [
       "<Figure size 792x648 with 1 Axes>"
      ]
     },
     "metadata": {
      "needs_background": "light"
     },
     "output_type": "display_data"
    }
   ],
   "source": [
    "gender = data_raw['gender'].value_counts()\n",
    "plt.figure(figsize=(8, 6))\n",
    "plot_1 = gender.plot.pie(fontsize=12, autopct='%1.0f%%', labeldistance=1.2, radius=1)\n",
    "plt.show()\n",
    "\n",
    "contract_1 = data_raw['Contract'].value_counts()\n",
    "plt.figure(figsize=(10, 7))\n",
    "sns.barplot(x=contract_1.index, y=contract_1.values, alpha=0.8)\n",
    "plt.title('Number of clients and their type of contract', fontsize=19, pad=11)\n",
    "plt.ylabel('Number of clients', fontsize=14)\n",
    "plt.xticks(fontsize=15)\n",
    "plt.yticks(fontsize=12)\n",
    "plt.show()\n",
    "\n",
    "montly_charges_1 = data_raw['MonthlyCharges']\n",
    "plt.figure(figsize=(11, 8))\n",
    "sns.distplot(montly_charges_1).set(ylabel=None, xlabel=None)\n",
    "plt.title('Monthly payment to date', fontsize=19)\n",
    "plt.xlabel('Payment amount', fontsize=13)\n",
    "plt.show()\n",
    "\n",
    "paymentMethod_1 = data_raw['PaymentMethod'].value_counts()\n",
    "plt.figure(figsize=(11, 9))\n",
    "sns.barplot(x=paymentMethod_1.index, y=paymentMethod_1.values, alpha=0.8)\n",
    "plt.title('Number of Clients and type of Payment', fontsize=19, pad=11)\n",
    "plt.ylabel('Number of Clients', fontsize=13)\n",
    "plt.xlabel('Payment Type', fontsize=13)\n",
    "plt.xticks(fontsize=15, rotation=30)\n",
    "plt.yticks(fontsize=11)\n",
    "plt.show()"
   ]
  },
  {
   "cell_type": "markdown",
   "metadata": {
    "papermill": {
     "duration": 0.022542,
     "end_time": "2021-05-10T00:40:13.073046",
     "exception": false,
     "start_time": "2021-05-10T00:40:13.050504",
     "status": "completed"
    },
    "tags": []
   },
   "source": [
    "# Data Wrangling"
   ]
  },
  {
   "cell_type": "code",
   "execution_count": null,
   "metadata": {
    "execution": {
     "iopub.execute_input": "2021-05-10T00:40:13.134841Z",
     "iopub.status.busy": "2021-05-10T00:40:13.133578Z",
     "iopub.status.idle": "2021-05-10T00:40:13.236917Z",
     "shell.execute_reply": "2021-05-10T00:40:13.236204Z"
    },
    "papermill": {
     "duration": 0.142422,
     "end_time": "2021-05-10T00:40:13.237066",
     "exception": false,
     "start_time": "2021-05-10T00:40:13.094644",
     "status": "completed"
    },
    "tags": []
   },
   "outputs": [],
   "source": [
    "#import data -> clean data -> split data for test and train\n",
    "data = data_raw\n",
    "\n",
    "#drop unneeded columns\n",
    "data.drop(['Unnamed: 0', 'customerID', 'TotalCharges'], axis = 1, inplace = True)\n",
    "\n",
    "#Translates yes->1 and No->0 and Male->1 and Female->0 for the given columns\n",
    "yes_no_cols = ['Churn','Partner','Dependents','PhoneService', 'PaperlessBilling']\n",
    "for col in yes_no_cols:\n",
    "    data[col] = data[col].apply(lambda x: 0 if x=='No' else 1 )\n",
    "data['gender'] = data['gender'].apply(lambda x: 0 if x=='Female' else 1 )   \n",
    "\n",
    "#Create dummies for categorical columns\n",
    "data = pd.get_dummies(data, columns = ['MultipleLines', 'InternetService', 'OnlineSecurity', \n",
    "                                       'OnlineBackup', 'DeviceProtection','TechSupport', \n",
    "                                       'StreamingTV', 'StreamingMovies', 'Contract', 'PaymentMethod' ])\n",
    "\n",
    "#split the data for test and train\n",
    "X = data.loc[:, data.columns != 'Churn']\n",
    "y = data['Churn']\n",
    "X_train, X_test, y_train, y_test = train_test_split(X, y, test_size=0.20)\n",
    "data.head(3)"
   ]
  },
  {
   "cell_type": "markdown",
   "metadata": {
    "papermill": {
     "duration": 0.015113,
     "end_time": "2021-05-10T00:40:13.267764",
     "exception": false,
     "start_time": "2021-05-10T00:40:13.252651",
     "status": "completed"
    },
    "tags": []
   },
   "source": [
    "# Pytorch Model"
   ]
  },
  {
   "cell_type": "code",
   "execution_count": null,
   "metadata": {
    "execution": {
     "iopub.execute_input": "2021-05-10T00:40:13.320045Z",
     "iopub.status.busy": "2021-05-10T00:40:13.314983Z",
     "iopub.status.idle": "2021-05-10T00:40:14.185907Z",
     "shell.execute_reply": "2021-05-10T00:40:14.185240Z"
    },
    "papermill": {
     "duration": 0.902918,
     "end_time": "2021-05-10T00:40:14.186085",
     "exception": false,
     "start_time": "2021-05-10T00:40:13.283167",
     "status": "completed"
    },
    "tags": []
   },
   "outputs": [],
   "source": [
    "#PyTorch\n",
    "class DataTensors(Dataset):\n",
    "    def __init__(self, X, y):\n",
    "        self.x = torch.from_numpy(X.to_numpy( dtype=np.float32))\n",
    "        self.y = torch.from_numpy(y.to_numpy( dtype=np.long))\n",
    "        self.n_samples = X.shape[0]\n",
    "    \n",
    "    def __getitem__(self, index):\n",
    "        return self.x[index], self.y[index]\n",
    "    \n",
    "    def __len__(self):\n",
    "        return self.n_samples\n",
    "\n",
    "class NN(nn.Module):\n",
    "    \n",
    "    def __init__(self, input_size, hidden1_size, num_classes):\n",
    "        super(NN,self).__init__()\n",
    "        self.fc1 = nn.Linear(input_size,hidden1_size)\n",
    "        self.fc2 = nn.Linear(hidden1_size,num_classes)\n",
    "    \n",
    "    def forward(self, x):\n",
    "        x = F.relu(self.fc1(x))\n",
    "        x = self.fc2(x)\n",
    "        return x\n",
    "    \n",
    "#Building model  \n",
    "device = torch.device('cuda' if torch.cuda.is_available() else 'cpu')\n",
    "\n",
    "model = NN(input_size = 39,hidden1_size = 20, num_classes = 2).to(device)\n",
    "criterion = nn.CrossEntropyLoss()\n",
    "optimizer = optim.Adam(model.parameters(), lr = 0.02)\n",
    "\n",
    "dataset = DataTensors(X_train, y_train)\n",
    "data_loader = DataLoader(dataset = dataset, batch_size= len(dataset), shuffle=True)\n",
    "\n",
    "#Training model\n",
    "for epoch in range(10):\n",
    "    for data2, targets in data_loader:\n",
    "        data2 = data2.to(device=device)\n",
    "        targets = targets.to(device=device)\n",
    "        \n",
    "        data2 = data2.reshape(data2.shape[0], -1)\n",
    "        \n",
    "        scores = model(data2)\n",
    "        loss = criterion(scores,targets)\n",
    "        \n",
    "        optimizer.zero_grad()\n",
    "        loss.backward()\n",
    "        \n",
    "        optimizer.step()\n",
    "\n",
    "#Testing model\n",
    "testset = DataTensors(X_test, y_test)\n",
    "test_loader = DataLoader(dataset = testset, batch_size = len(testset), shuffle=True)\n",
    "\n",
    "num_correct = 0\n",
    "num_samples = 0\n",
    "model.eval()\n",
    "\n",
    "for x, y in test_loader:\n",
    "    x = x.to(device=device)\n",
    "    y = y.to(device=device)\n",
    "    x = x.reshape(x.shape[0], -1)\n",
    "    \n",
    "    outputs = model(x)\n",
    "    _, outputs = torch.max(outputs.data, 1)\n",
    "    \n",
    "    num_correct += (outputs == y).sum()\n",
    "    num_samples += outputs.size(0)\n",
    "print('model accuracy: {}/{} OR {}'.format(num_correct, num_samples, num_correct/num_samples))"
   ]
  },
  {
   "cell_type": "markdown",
   "metadata": {
    "papermill": {
     "duration": 0.016109,
     "end_time": "2021-05-10T00:40:14.219457",
     "exception": false,
     "start_time": "2021-05-10T00:40:14.203348",
     "status": "completed"
    },
    "tags": []
   },
   "source": [
    "# Logistic Regression Model"
   ]
  },
  {
   "cell_type": "code",
   "execution_count": null,
   "metadata": {
    "execution": {
     "iopub.execute_input": "2021-05-10T00:40:14.268729Z",
     "iopub.status.busy": "2021-05-10T00:40:14.268000Z",
     "iopub.status.idle": "2021-05-10T00:40:14.964898Z",
     "shell.execute_reply": "2021-05-10T00:40:14.964139Z"
    },
    "papermill": {
     "duration": 0.728449,
     "end_time": "2021-05-10T00:40:14.965065",
     "exception": false,
     "start_time": "2021-05-10T00:40:14.236616",
     "status": "completed"
    },
    "tags": []
   },
   "outputs": [],
   "source": [
    "#Logistic Regression - imports are in section 1, data is in sections 2/3\n",
    "LogReg = LogisticRegression()\n",
    "scaler = preprocessing.StandardScaler()\n",
    "X_train = scaler.fit_transform(X_train)\n",
    "X_test = scaler.transform(X_test)\n",
    "LogReg.fit(X_train,y_train)\n",
    "y_pred=LogReg.predict(X_test)\n",
    "print(classification_report(y_test, LogReg.predict(X_test)))\n",
    "conf_mat = confusion_matrix(y_test, y_pred)\n",
    "conf_mat\n",
    "categories = [0,1] \n",
    "fig, ax = plt.subplots()\n",
    "\n",
    "#heatmap\n",
    "sns.heatmap(pd.DataFrame(conf_mat), annot=True)\n",
    "ax.xaxis.set_label_position(\"top\")\n",
    "plt.tight_layout()\n",
    "plt.title('confusion matrix', y=1.1)\n",
    "plt.ylabel('actual')\n",
    "plt.xlabel('predicted')\n",
    "dummy_clf = DummyClassifier(strategy=\"most_frequent\")\n",
    "print(\"accuracy:\", accuracy_score(y_test, y_pred))\n",
    "print(\"precision:\", precision_score(y_test, y_pred))\n",
    "print(\"recall:\", recall_score(y_test, y_pred))\n",
    "\n",
    "# logistic regression chart\n",
    "y_pred_proba = LogReg.predict_proba(X_test)[::,1]\n",
    "fpr, tpr, _ = roc_curve(y_test,  y_pred_proba)\n",
    "auc = roc_auc_score(y_test, y_pred_proba)\n",
    "plt.figure()\n",
    "lw = 2\n",
    "plt.plot(fpr, tpr, color='red',lw=2, label='area = %0.2f' % auc)\n",
    "plt.plot([0, 1], [0, 1], color='black', lw=2, linestyle='-')\n",
    "plt.xlabel('false positive')\n",
    "plt.ylabel('true positive')\n",
    "plt.title('logistic regression graph')\n",
    "plt.legend(loc=\"lower right\")\n",
    "plt.show()"
   ]
  },
  {
   "cell_type": "markdown",
   "metadata": {
    "papermill": {
     "duration": 0.018946,
     "end_time": "2021-05-10T00:40:15.003204",
     "exception": false,
     "start_time": "2021-05-10T00:40:14.984258",
     "status": "completed"
    },
    "tags": []
   },
   "source": [
    "# XGBoost Model"
   ]
  },
  {
   "cell_type": "code",
   "execution_count": 10,
   "metadata": {
    "execution": {
     "iopub.execute_input": "2021-05-10T00:40:15.053130Z",
     "iopub.status.busy": "2021-05-10T00:40:15.052380Z",
     "iopub.status.idle": "2021-05-10T00:40:15.689562Z",
     "shell.execute_reply": "2021-05-10T00:40:15.690298Z"
    },
    "papermill": {
     "duration": 0.66647,
     "end_time": "2021-05-10T00:40:15.690569",
     "exception": false,
     "start_time": "2021-05-10T00:40:15.024099",
     "status": "completed"
    },
    "tags": []
   },
   "outputs": [
    {
     "ename": "XGBoostError",
     "evalue": "XGBoost Library (libxgboost.dylib) could not be loaded.\nLikely causes:\n  * OpenMP runtime is not installed (vcomp140.dll or libgomp-1.dll for Windows, libomp.dylib for Mac OSX, libgomp.so for Linux and other UNIX-like OSes). Mac OSX users: Run `brew install libomp` to install OpenMP runtime.\n  * You are running 32-bit Python on a 64-bit OS\nError message(s): ['dlopen(/Users/angaddhillon/anaconda3/lib/python3.7/site-packages/xgboost/lib/libxgboost.dylib, 6): Library not loaded: /usr/local/opt/libomp/lib/libomp.dylib\\n  Referenced from: /Users/angaddhillon/anaconda3/lib/python3.7/site-packages/xgboost/lib/libxgboost.dylib\\n  Reason: image not found']\n",
     "output_type": "error",
     "traceback": [
      "\u001b[0;31m---------------------------------------------------------------------------\u001b[0m",
      "\u001b[0;31mXGBoostError\u001b[0m                              Traceback (most recent call last)",
      "\u001b[0;32m<ipython-input-10-e807ee77aa9b>\u001b[0m in \u001b[0;36m<module>\u001b[0;34m\u001b[0m\n\u001b[1;32m      1\u001b[0m \u001b[0;31m#XGBoost\u001b[0m\u001b[0;34m\u001b[0m\u001b[0;34m\u001b[0m\u001b[0;34m\u001b[0m\u001b[0m\n\u001b[0;32m----> 2\u001b[0;31m \u001b[0;32mfrom\u001b[0m \u001b[0mxgboost\u001b[0m \u001b[0;32mimport\u001b[0m \u001b[0mplot_importance\u001b[0m\u001b[0;34m\u001b[0m\u001b[0;34m\u001b[0m\u001b[0m\n\u001b[0m\u001b[1;32m      3\u001b[0m \u001b[0mX\u001b[0m \u001b[0;34m=\u001b[0m \u001b[0mdata\u001b[0m\u001b[0;34m.\u001b[0m\u001b[0mloc\u001b[0m\u001b[0;34m[\u001b[0m\u001b[0;34m:\u001b[0m\u001b[0;34m,\u001b[0m \u001b[0mdata\u001b[0m\u001b[0;34m.\u001b[0m\u001b[0mcolumns\u001b[0m \u001b[0;34m!=\u001b[0m \u001b[0;34m'Churn'\u001b[0m\u001b[0;34m]\u001b[0m\u001b[0;34m\u001b[0m\u001b[0;34m\u001b[0m\u001b[0m\n\u001b[1;32m      4\u001b[0m \u001b[0my\u001b[0m \u001b[0;34m=\u001b[0m \u001b[0mdata\u001b[0m\u001b[0;34m.\u001b[0m\u001b[0mChurn\u001b[0m\u001b[0;34m\u001b[0m\u001b[0;34m\u001b[0m\u001b[0m\n\u001b[1;32m      5\u001b[0m \u001b[0;31m#train and test split\u001b[0m\u001b[0;34m\u001b[0m\u001b[0;34m\u001b[0m\u001b[0;34m\u001b[0m\u001b[0m\n",
      "\u001b[0;32m~/anaconda3/lib/python3.7/site-packages/xgboost/__init__.py\u001b[0m in \u001b[0;36m<module>\u001b[0;34m\u001b[0m\n\u001b[1;32m      7\u001b[0m \u001b[0;32mimport\u001b[0m \u001b[0mos\u001b[0m\u001b[0;34m\u001b[0m\u001b[0;34m\u001b[0m\u001b[0m\n\u001b[1;32m      8\u001b[0m \u001b[0;34m\u001b[0m\u001b[0m\n\u001b[0;32m----> 9\u001b[0;31m \u001b[0;32mfrom\u001b[0m \u001b[0;34m.\u001b[0m\u001b[0mcore\u001b[0m \u001b[0;32mimport\u001b[0m \u001b[0mDMatrix\u001b[0m\u001b[0;34m,\u001b[0m \u001b[0mDeviceQuantileDMatrix\u001b[0m\u001b[0;34m,\u001b[0m \u001b[0mBooster\u001b[0m\u001b[0;34m\u001b[0m\u001b[0;34m\u001b[0m\u001b[0m\n\u001b[0m\u001b[1;32m     10\u001b[0m \u001b[0;32mfrom\u001b[0m \u001b[0;34m.\u001b[0m\u001b[0mtraining\u001b[0m \u001b[0;32mimport\u001b[0m \u001b[0mtrain\u001b[0m\u001b[0;34m,\u001b[0m \u001b[0mcv\u001b[0m\u001b[0;34m\u001b[0m\u001b[0;34m\u001b[0m\u001b[0m\n\u001b[1;32m     11\u001b[0m \u001b[0;32mfrom\u001b[0m \u001b[0;34m.\u001b[0m \u001b[0;32mimport\u001b[0m \u001b[0mrabit\u001b[0m  \u001b[0;31m# noqa\u001b[0m\u001b[0;34m\u001b[0m\u001b[0;34m\u001b[0m\u001b[0m\n",
      "\u001b[0;32m~/anaconda3/lib/python3.7/site-packages/xgboost/core.py\u001b[0m in \u001b[0;36m<module>\u001b[0;34m\u001b[0m\n\u001b[1;32m    193\u001b[0m \u001b[0;34m\u001b[0m\u001b[0m\n\u001b[1;32m    194\u001b[0m \u001b[0;31m# load the XGBoost library globally\u001b[0m\u001b[0;34m\u001b[0m\u001b[0;34m\u001b[0m\u001b[0;34m\u001b[0m\u001b[0m\n\u001b[0;32m--> 195\u001b[0;31m \u001b[0m_LIB\u001b[0m \u001b[0;34m=\u001b[0m \u001b[0m_load_lib\u001b[0m\u001b[0;34m(\u001b[0m\u001b[0;34m)\u001b[0m\u001b[0;34m\u001b[0m\u001b[0;34m\u001b[0m\u001b[0m\n\u001b[0m\u001b[1;32m    196\u001b[0m \u001b[0;34m\u001b[0m\u001b[0m\n\u001b[1;32m    197\u001b[0m \u001b[0;34m\u001b[0m\u001b[0m\n",
      "\u001b[0;32m~/anaconda3/lib/python3.7/site-packages/xgboost/core.py\u001b[0m in \u001b[0;36m_load_lib\u001b[0;34m()\u001b[0m\n\u001b[1;32m    184\u001b[0m             \u001b[0;34m'`brew install libomp` to install OpenMP runtime.\\n'\u001b[0m \u001b[0;34m+\u001b[0m\u001b[0;34m\u001b[0m\u001b[0;34m\u001b[0m\u001b[0m\n\u001b[1;32m    185\u001b[0m             \u001b[0;34m'  * You are running 32-bit Python on a 64-bit OS\\n'\u001b[0m \u001b[0;34m+\u001b[0m\u001b[0;34m\u001b[0m\u001b[0;34m\u001b[0m\u001b[0m\n\u001b[0;32m--> 186\u001b[0;31m             'Error message(s): {}\\n'.format(os_error_list))\n\u001b[0m\u001b[1;32m    187\u001b[0m     \u001b[0mlib\u001b[0m\u001b[0;34m.\u001b[0m\u001b[0mXGBGetLastError\u001b[0m\u001b[0;34m.\u001b[0m\u001b[0mrestype\u001b[0m \u001b[0;34m=\u001b[0m \u001b[0mctypes\u001b[0m\u001b[0;34m.\u001b[0m\u001b[0mc_char_p\u001b[0m\u001b[0;34m\u001b[0m\u001b[0;34m\u001b[0m\u001b[0m\n\u001b[1;32m    188\u001b[0m     \u001b[0mlib\u001b[0m\u001b[0;34m.\u001b[0m\u001b[0mcallback\u001b[0m \u001b[0;34m=\u001b[0m \u001b[0m_get_log_callback_func\u001b[0m\u001b[0;34m(\u001b[0m\u001b[0;34m)\u001b[0m\u001b[0;34m\u001b[0m\u001b[0;34m\u001b[0m\u001b[0m\n",
      "\u001b[0;31mXGBoostError\u001b[0m: XGBoost Library (libxgboost.dylib) could not be loaded.\nLikely causes:\n  * OpenMP runtime is not installed (vcomp140.dll or libgomp-1.dll for Windows, libomp.dylib for Mac OSX, libgomp.so for Linux and other UNIX-like OSes). Mac OSX users: Run `brew install libomp` to install OpenMP runtime.\n  * You are running 32-bit Python on a 64-bit OS\nError message(s): ['dlopen(/Users/angaddhillon/anaconda3/lib/python3.7/site-packages/xgboost/lib/libxgboost.dylib, 6): Library not loaded: /usr/local/opt/libomp/lib/libomp.dylib\\n  Referenced from: /Users/angaddhillon/anaconda3/lib/python3.7/site-packages/xgboost/lib/libxgboost.dylib\\n  Reason: image not found']\n"
     ]
    }
   ],
   "source": [
    "#XGBoost\n",
    "X = data.loc[:, data.columns != 'Churn']\n",
    "y = data.Churn\n",
    "#train and test split\n",
    "X_train, X_test, y_train, y_test = train_test_split(X, y, test_size=0.02, random_state=0)\n",
    "#building the model & printing the score\n",
    "xgb_model = xgb.XGBClassifier(max_depth=5, learning_rate=0.08, objective= 'binary:logistic',n_jobs=-1).fit(X_train, y_train)\n",
    "print('Accuracy of XGB classifier on training set: {:.2f}'\n",
    "       .format(xgb_model.score(X_train, y_train)))\n",
    "print('Accuracy of XGB classifier on test set: {:.2f}'\n",
    "       .format(xgb_model.score(X_test[X_train.columns], y_test)))\n",
    "y_pred = xgb_model.predict(X_test)\n",
    "print(classification_report(y_test, y_pred))"
   ]
  },
  {
   "cell_type": "code",
   "execution_count": null,
   "metadata": {},
   "outputs": [],
   "source": [
    "xgb_model.plot.importance(\n",
    "  importance_matrix = NULL,\n",
    "  top_n = NULL,\n",
    "  measure = NULL,\n",
    "  rel_to_first = FALSE,\n",
    "  left_margin = 10,\n",
    "  cex = NULL,\n",
    "  plot = TRUE,)"
   ]
  },
  {
   "cell_type": "markdown",
   "metadata": {
    "papermill": {
     "duration": 0.022996,
     "end_time": "2021-05-10T00:40:15.736737",
     "exception": false,
     "start_time": "2021-05-10T00:40:15.713741",
     "status": "completed"
    },
    "tags": []
   },
   "source": [
    "# Keras Model"
   ]
  },
  {
   "cell_type": "code",
   "execution_count": null,
   "metadata": {
    "execution": {
     "iopub.execute_input": "2021-05-10T00:40:15.784442Z",
     "iopub.status.busy": "2021-05-10T00:40:15.783338Z",
     "iopub.status.idle": "2021-05-10T00:40:38.599193Z",
     "shell.execute_reply": "2021-05-10T00:40:38.598449Z"
    },
    "papermill": {
     "duration": 22.841399,
     "end_time": "2021-05-10T00:40:38.599353",
     "exception": false,
     "start_time": "2021-05-10T00:40:15.757954",
     "status": "completed"
    },
    "tags": []
   },
   "outputs": [],
   "source": [
    "#Keras pt1\n",
    "sc = StandardScaler()\n",
    "X_train = sc.fit_transform(X_train)\n",
    "X_test = sc.transform(X_test)\n",
    "\n",
    "model = Sequential()\n",
    "model.add(Dense(8, activation='relu'))\n",
    "model.add(Dense(8, activation='relu'))\n",
    "model.add(Dense(1, activation='sigmoid'))\n",
    "model.compile(loss='binary_crossentropy',\n",
    "              optimizer='sgd',\n",
    "              metrics=['accuracy'])\n",
    "\n",
    "model.fit(X_train, y_train,epochs=4, batch_size=1, verbose=1)"
   ]
  },
  {
   "cell_type": "code",
   "execution_count": null,
   "metadata": {
    "execution": {
     "iopub.execute_input": "2021-05-10T00:40:38.948824Z",
     "iopub.status.busy": "2021-05-10T00:40:38.948090Z",
     "iopub.status.idle": "2021-05-10T00:40:39.330585Z",
     "shell.execute_reply": "2021-05-10T00:40:39.331168Z"
    },
    "papermill": {
     "duration": 0.558297,
     "end_time": "2021-05-10T00:40:39.331355",
     "exception": false,
     "start_time": "2021-05-10T00:40:38.773058",
     "status": "completed"
    },
    "tags": []
   },
   "outputs": [],
   "source": [
    "#Keras pt2\n",
    "y_pred = model.predict_classes(X_test)\n",
    "score = model.evaluate(X_test, y_test,verbose=1)\n",
    "print(score)"
   ]
  },
  {
   "cell_type": "code",
   "execution_count": null,
   "metadata": {},
   "outputs": [],
   "source": [
    "print(history.history.keys())\n",
    "# summarize history for accuracy\n",
    "plt.plot(history.history['accuracy'])\n",
    "plt.plot(history.history['val_accuracy'])\n",
    "plt.title('model accuracy')\n",
    "plt.ylabel('accuracy')\n",
    "plt.xlabel('epoch')\n",
    "plt.legend(['train', 'test'], loc='upper left')\n",
    "plt.show()\n",
    "# summarize history for loss\n",
    "plt.plot(history.history['loss'])\n",
    "plt.plot(history.history['val_loss'])\n",
    "plt.title('model loss')\n",
    "plt.ylabel('loss')\n",
    "plt.xlabel('epoch')\n",
    "plt.legend(['train', 'test'], loc='upper left')\n",
    "plt.show()"
   ]
  },
  {
   "cell_type": "markdown",
   "metadata": {
    "papermill": {
     "duration": 0.167106,
     "end_time": "2021-05-10T00:40:39.669822",
     "exception": false,
     "start_time": "2021-05-10T00:40:39.502716",
     "status": "completed"
    },
    "tags": []
   },
   "source": [
    "# Decision Tree & Random Forest Model"
   ]
  },
  {
   "cell_type": "code",
   "execution_count": null,
   "metadata": {
    "execution": {
     "iopub.execute_input": "2021-05-10T00:40:40.012890Z",
     "iopub.status.busy": "2021-05-10T00:40:40.012200Z",
     "iopub.status.idle": "2021-05-10T00:40:40.019949Z",
     "shell.execute_reply": "2021-05-10T00:40:40.019210Z"
    },
    "papermill": {
     "duration": 0.182479,
     "end_time": "2021-05-10T00:40:40.020105",
     "exception": false,
     "start_time": "2021-05-10T00:40:39.837626",
     "status": "completed"
    },
    "tags": []
   },
   "outputs": [],
   "source": [
    "#Descision tree begin\n",
    "#first ten row -- churn\n",
    "y[0:10]"
   ]
  },
  {
   "cell_type": "code",
   "execution_count": null,
   "metadata": {
    "execution": {
     "iopub.execute_input": "2021-05-10T00:40:40.366179Z",
     "iopub.status.busy": "2021-05-10T00:40:40.365466Z",
     "iopub.status.idle": "2021-05-10T00:40:40.431428Z",
     "shell.execute_reply": "2021-05-10T00:40:40.431957Z"
    },
    "papermill": {
     "duration": 0.242737,
     "end_time": "2021-05-10T00:40:40.432163",
     "exception": false,
     "start_time": "2021-05-10T00:40:40.189426",
     "status": "completed"
    },
    "tags": []
   },
   "outputs": [],
   "source": [
    "#decision tree classifier\n",
    "dtree = DecisionTreeClassifier(criterion='entropy', random_state=99)\n",
    "\n",
    "#fitting data \n",
    "dtree.fit(X_train,y_train)\n",
    "y_pred = dtree.predict(X_test)\n",
    "accuracy_score(y_test, y_pred)\n",
    "\n",
    "#accuracy score\n",
    "accuracy = float(np.sum(y_pred==y_test))/y_test.shape[0]\n",
    "accuracy"
   ]
  },
  {
   "cell_type": "code",
   "execution_count": null,
   "metadata": {
    "execution": {
     "iopub.execute_input": "2021-05-10T00:40:40.763665Z",
     "iopub.status.busy": "2021-05-10T00:40:40.762900Z",
     "iopub.status.idle": "2021-05-10T00:40:42.589955Z",
     "shell.execute_reply": "2021-05-10T00:40:42.589288Z"
    },
    "papermill": {
     "duration": 1.995956,
     "end_time": "2021-05-10T00:40:42.590110",
     "exception": false,
     "start_time": "2021-05-10T00:40:40.594154",
     "status": "completed"
    },
    "tags": []
   },
   "outputs": [],
   "source": [
    "#data visualization\n",
    "from sklearn import tree\n",
    "import matplotlib.pyplot as plt\n",
    "\n",
    "fig, ax = plt.subplots(figsize=(12, 12))\n",
    "tree.plot_tree(decision_tree=dtree, max_depth= 3,fontsize=12);"
   ]
  },
  {
   "cell_type": "code",
   "execution_count": null,
   "metadata": {
    "execution": {
     "iopub.execute_input": "2021-05-10T00:40:42.946948Z",
     "iopub.status.busy": "2021-05-10T00:40:42.946115Z",
     "iopub.status.idle": "2021-05-10T00:40:43.743766Z",
     "shell.execute_reply": "2021-05-10T00:40:43.744521Z"
    },
    "papermill": {
     "duration": 0.980574,
     "end_time": "2021-05-10T00:40:43.744746",
     "exception": false,
     "start_time": "2021-05-10T00:40:42.764172",
     "status": "completed"
    },
    "tags": []
   },
   "outputs": [],
   "source": [
    "#Descison tree pt.2 Random Forest\n",
    "from sklearn.ensemble import RandomForestClassifier\n",
    "rf_cl = RandomForestClassifier(n_estimators=100,random_state=11)\n",
    "rf_cl.fit(X_train, y_train)\n",
    "rf_pred= rf_cl.predict(X_test)\n",
    "accuracy = float(np.sum(rf_pred==y_test))/y_test.shape[0]\n",
    "print(\"accuracy: %f\" % (accuracy))"
   ]
  },
  {
   "cell_type": "markdown",
   "metadata": {
    "papermill": {
     "duration": 0.167237,
     "end_time": "2021-05-10T00:40:44.081174",
     "exception": false,
     "start_time": "2021-05-10T00:40:43.913937",
     "status": "completed"
    },
    "tags": []
   },
   "source": [
    "# Conclusion"
   ]
  },
  {
   "cell_type": "markdown",
   "metadata": {},
   "source": [
    "The accuracy shown by each model are as follow:\n",
    "\n",
    "Py-torch model-0.74</br><p>\n",
    "Linear Regression model-0.78<br><p>\n",
    "Keras model-0.78<br><p>\n",
    "Xgboost model-(training set-0.83, test set-0.79)<br><p>\n",
    "Decision tree model-(classifier)-0.64, Part2 (random forest)-0.8<br><p>\n",
    "    \n",
    "All in all, the decision tree random forest classifier came out to be most accurate with 0.8 or 80% accuracy. Most model were predicting accuracy around 74~79% which is very close to one another.<br><p>\n",
    "    \n",
    "Challenges-We had some issues organizing libraries but we are able to sort it out. The Keras model accuracy was initially questionable because we didn't if it was correct or not. It is accurate now.<br><p>"
   ]
  },
  {
   "cell_type": "code",
   "execution_count": null,
   "metadata": {},
   "outputs": [],
   "source": []
  }
 ],
 "metadata": {
  "kernelspec": {
   "display_name": "Python 3",
   "language": "python",
   "name": "python3"
  },
  "language_info": {
   "codemirror_mode": {
    "name": "ipython",
    "version": 3
   },
   "file_extension": ".py",
   "mimetype": "text/x-python",
   "name": "python",
   "nbconvert_exporter": "python",
   "pygments_lexer": "ipython3",
   "version": "3.7.3"
  },
  "papermill": {
   "default_parameters": {},
   "duration": 51.994609,
   "end_time": "2021-05-10T00:40:45.945032",
   "environment_variables": {},
   "exception": null,
   "input_path": "__notebook__.ipynb",
   "output_path": "__notebook__.ipynb",
   "parameters": {},
   "start_time": "2021-05-10T00:39:53.950423",
   "version": "2.3.3"
  }
 },
 "nbformat": 4,
 "nbformat_minor": 5
}
